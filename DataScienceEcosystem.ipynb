{
 "cells": [
  {
   "cell_type": "markdown",
   "id": "c93cc8c2-1657-47fa-b788-203ab58f3ed4",
   "metadata": {},
   "source": [
    "# **Data Science Tools and Ecosytem**"
   ]
  },
  {
   "cell_type": "markdown",
   "id": "65e6b57f-9294-41e3-a7be-fb1baedec41b",
   "metadata": {},
   "source": [
    "In this notebook, Data Science Tools and Ecosystems are Summarized."
   ]
  },
  {
   "cell_type": "markdown",
   "id": "710d6d2b-f113-4aed-ab8f-2676af3de501",
   "metadata": {},
   "source": [
    "**Objectives:**\n",
    "- List popular languages for data science\n",
    "- List popular libraries for data science\n",
    "- List popular tools in data science"
   ]
  },
  {
   "cell_type": "markdown",
   "id": "c79c57cd-85db-46da-bdbd-edb04a73d560",
   "metadata": {},
   "source": [
    "Some of the popular languages that Data Scientists use are:\n",
    "1. Python\n",
    "2. C++\n",
    "3. JavaScript\n",
    "4. R\n",
    "5. SQL"
   ]
  },
  {
   "cell_type": "markdown",
   "id": "5f2bc478-d8dd-4ca2-a959-9b7b8a0c8b15",
   "metadata": {},
   "source": [
    "Some of the commonly used libraries used by Data Scientists include:\n",
    "-------------------------------------------------------------------\n",
    "1. Numpy\n",
    "2. Pandas\n",
    "3. Matplotlib\n",
    "4. TensorFlow"
   ]
  },
  {
   "cell_type": "markdown",
   "id": "67373a75-d693-42dd-a300-3dcb077daa3d",
   "metadata": {},
   "source": [
    "|Data Science Tools|\n",
    "|------------------|\n",
    "|Jupyter Notebook|\n",
    "|RStudio|\n",
    "|Spyder|"
   ]
  },
  {
   "cell_type": "markdown",
   "id": "46eee1cd-6ab2-43d5-b7b6-bca5773e1e4d",
   "metadata": {},
   "source": [
    "### Below are a few examples of evaluating arithmetic expressions in Python"
   ]
  },
  {
   "cell_type": "code",
   "execution_count": 35,
   "id": "47464f0e-16d6-431b-bb24-89b295a7a612",
   "metadata": {},
   "outputs": [
    {
     "data": {
      "text/plain": [
       "17"
      ]
     },
     "execution_count": 35,
     "metadata": {},
     "output_type": "execute_result"
    }
   ],
   "source": [
    "# This a simple arithmetic expression to mutiply then add integers\n",
    "(3*4)+5"
   ]
  },
  {
   "cell_type": "code",
   "execution_count": 37,
   "id": "a315b5a6-36e8-40d2-9934-cfadaae04723",
   "metadata": {},
   "outputs": [
    {
     "data": {
      "text/plain": [
       "3.3333333333333335"
      ]
     },
     "execution_count": 37,
     "metadata": {},
     "output_type": "execute_result"
    }
   ],
   "source": [
    "# This will convert 200 minutes to hours by diving by 60\n",
    "200/60"
   ]
  },
  {
   "cell_type": "markdown",
   "id": "02702e83-3460-478c-b4c4-d1cddf64ebba",
   "metadata": {},
   "source": [
    "## Author\n",
    "Precious Leku Owan"
   ]
  },
  {
   "cell_type": "code",
   "execution_count": null,
   "id": "5958d310-bd8a-4b02-b00a-0045d74f323f",
   "metadata": {},
   "outputs": [],
   "source": []
  }
 ],
 "metadata": {
  "kernelspec": {
   "display_name": "Python [conda env:base] *",
   "language": "python",
   "name": "conda-base-py"
  },
  "language_info": {
   "codemirror_mode": {
    "name": "ipython",
    "version": 3
   },
   "file_extension": ".py",
   "mimetype": "text/x-python",
   "name": "python",
   "nbconvert_exporter": "python",
   "pygments_lexer": "ipython3",
   "version": "3.12.7"
  }
 },
 "nbformat": 4,
 "nbformat_minor": 5
}
